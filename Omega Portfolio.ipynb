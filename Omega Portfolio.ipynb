{
 "cells": [
  {
   "cell_type": "markdown",
   "id": "f7fbb140",
   "metadata": {},
   "source": [
    "# Discrete Omega Metric Maximization \n",
    "\n",
    "\n",
    "## Intuition\n"
   ]
  },
  {
   "cell_type": "code",
   "execution_count": 1,
   "id": "21395436",
   "metadata": {},
   "outputs": [],
   "source": [
    "import numpy as np\n",
    "import matplotlib.pyplot as plt\n",
    "\n",
    "#Risky Call Option\n",
    "x1 = np.array([0.0, 0.5, 1.6, 2.0])\n",
    "px1 = np.array([0.6, 0.3, 0.05, 0.05])\n",
    "\n",
    "#Uniform Asset\n",
    "x2 = np.array([0.0, 0.3, 1.5, 2.5])\n",
    "px2 = np.array([0.25, 0.25, 0.25, 0.25])\n",
    "\n",
    "#Biased Coin Flip Asset\n",
    "x3 = np.array([0.0, 0.5, 1.5, 2.1])\n",
    "px3 = np.array([0.5, 0.0, 0.0, 0.5])\n",
    "\n",
    "#Shitty Asset 1\n",
    "x4 = np.linspace(0, 1.3, num=50)\n",
    "px4 = np.square(1.3 - x4)\n",
    "px4 = px4/np.sum(px4)\n",
    "\n",
    "#Shitty Asset 2\n",
    "x5 = np.linspace(0.8, 1.2, num=50)\n",
    "px5 = 1.0 - 25*np.square(x5 - 1.0)\n",
    "px5 = px5/np.sum(px5)\n",
    "\n",
    "#Shitty Asset 2\n",
    "x6 = np.linspace(0.8, 1.2, num=50)\n",
    "px6 = 1.0 - 25*np.square(x6 - 1.0)\n",
    "px6 = px6/np.sum(px6)\n",
    "\n",
    "x = [x1, x2, x3, x4, x5, x6]\n",
    "px = [px1, px2, px3, px4, px5, px6]"
   ]
  },
  {
   "cell_type": "code",
   "execution_count": 2,
   "id": "1aaaa123",
   "metadata": {},
   "outputs": [
    {
     "name": "stdout",
     "output_type": "stream",
     "text": [
      "[0.33, 1.075, 1.05, 0.3151515151515152, 0.9999999999999998, 0.9999999999999998]\n"
     ]
    }
   ],
   "source": [
    "#precomputations\n",
    "E = [] #expected values of each distr\n",
    "for i in range(len(x)):\n",
    "    E.append(np.dot(x[i], px[i]))\n",
    "    \n",
    "print(E)\n",
    "\n",
    "\n",
    "#Generate r_js\n",
    "M = 100\n",
    "R_sample = np.zeros((len(x), M)) #This sample matrix will be used to calculate omega\n",
    "\n",
    "for i in range(len(x)):\n",
    "    R_sample[i] = np.random.choice(x[i], M, p=px[i])\n",
    "    "
   ]
  },
  {
   "cell_type": "code",
   "execution_count": 3,
   "id": "1137b632",
   "metadata": {},
   "outputs": [],
   "source": [
    "#helper functions\n",
    "def denom(weights, returns, tau=0.0):\n",
    "    term1 = np.maximum(tau-np.matmul(weights,R_sample), 0)\n",
    "    #print(term1)\n",
    "    denom = np.average(term1)\n",
    "    return denom\n",
    "\n",
    "def numerator(weights, returns, tau=0.0):\n",
    "    return np.dot(weights, returns) - tau\n",
    "\n",
    "def omega(weights, returns, tau=0.0):\n",
    "    return numerator(weights, returns,tau=tau)/denom(weights, returns, tau=tau)"
   ]
  },
  {
   "cell_type": "code",
   "execution_count": 4,
   "id": "a0b1fcc6",
   "metadata": {},
   "outputs": [
    {
     "name": "stdout",
     "output_type": "stream",
     "text": [
      "Omega:  0.2046501298943436\n",
      "Denom (Sampled):  0.35792476304714277\n",
      "Numerator:  0.07324934924999993\n"
     ]
    }
   ],
   "source": [
    "#w = np.ones(6)\n",
    "#w = w/np.sum(w)\n",
    "w = np.array([0.,        0.96929451, 0.01104542, 0.,         0.00983003, 0.00983003])\n",
    "#w = np.array([0.02063728, 0.73970493, 0.07611008, 0.01965031, 0.0719487,  0.0719487 ])\n",
    "print(\"Omega: \", omega(w, E, tau=1.0))\n",
    "print(\"Denom (Sampled): \", denom(w, E, tau=1.0))\n",
    "print(\"Numerator: \", numerator(w, E, tau=1.0))\n"
   ]
  },
  {
   "cell_type": "code",
   "execution_count": 5,
   "id": "75efc111",
   "metadata": {},
   "outputs": [],
   "source": [
    "def h_gradient(w, r, constr, tau=1.0, c=0.1):\n",
    "    gradient_var = []\n",
    "    gradient_constraint = []\n",
    "    \n",
    "    #Calculate objective function\n",
    "    obj = denom(w, r, tau=tau)\n",
    "    \n",
    "    #Calculate slack variable at each step\n",
    "    slack = np.dot(w, r) - tau - c\n",
    "    if slack > 0.0:\n",
    "        slack = np.sqrt(slack)\n",
    "    else:\n",
    "        slack = 0.0\n",
    "        \n",
    "    \n",
    "    #Calculate gradients of lagrangian\n",
    "    dl_dlambda1 = np.sum(w) - 1\n",
    "    dl_dlambda2 = np.sum(np.abs(w)) - 1\n",
    "    dl_dtheta = np.dot(w, r) - tau - c - np.square(slack) #can only be negative!\n",
    "    \n",
    "    dl_dw = np.zeros((len(w)))\n",
    "    \n",
    "    info_vector = tau - np.matmul(w, R_sample)\n",
    "    for i in range(M):\n",
    "        if info_vector[i] > 0.0:\n",
    "            dl_dw += -R_sample[:, i]\n",
    "    \n",
    "    dl_dw /= M\n",
    "    dl_dw += constr[0] + np.sign(w)*constr[1] + r*constr[2]\n",
    "    \n",
    "    #Now we calculate the gradients of h\n",
    "    dh_dtheta = np.dot(r, dl_dw)\n",
    "    dh_dlambda1 = np.sum(dl_dw)\n",
    "    dh_dlambda2 = np.dot(np.sign(w), dl_dw)\n",
    "    \n",
    "    gradient_constraint.append(dh_dlambda1)\n",
    "    gradient_constraint.append(dh_dlambda2)\n",
    "    gradient_constraint.append(dh_dtheta)\n",
    "    \n",
    "    gradient_var = r*dl_dtheta + np.sign(w)*dl_dlambda2 + dl_dlambda1\n",
    "    \n",
    "    return gradient_var, gradient_constraint, obj\n",
    "    \n",
    "    \n",
    "    \n",
    "    "
   ]
  },
  {
   "cell_type": "code",
   "execution_count": 6,
   "id": "2bddb1a2",
   "metadata": {},
   "outputs": [],
   "source": [
    "def h_gradient_descent(w, r, constr_var, steps=100, lr=1e-3, tau=1.0, c=0.1): \n",
    "    #We want to minimize the norm of the gradient\n",
    "    #mu is the minimum expected value of the portfolio\n",
    "    #I haven't implemented tolerance yet\n",
    "    \n",
    "    grad_history = []\n",
    "    constr_grad_history = []\n",
    "    obj_history = []\n",
    "    port_var_history = []\n",
    "    constr_history = []\n",
    "    var_np = np.array(w)\n",
    "    \n",
    "    constr_np = np.array(constr_var)\n",
    "    \n",
    "    for _ in range(steps):\n",
    "        grad, grad_constr, obj = h_gradient(var_np, r, constr_np, tau=tau, c=c)\n",
    "        var_np -= lr*grad\n",
    "        #var_np = np.maximum(var_np, 0)\n",
    "        #var_np = \n",
    "        constr_np -= lr*np.array(grad_constr)\n",
    "        \n",
    "        port_var_history.append(var_np.copy())\n",
    "        constr_history.append(constr_np.copy())\n",
    "        grad_history.append(grad)\n",
    "        constr_grad_history.append(grad_constr)\n",
    "        obj_history.append(obj)\n",
    "    \n",
    "    return port_var_history, grad_history, constr_history, constr_grad_history, obj_history, var_np"
   ]
  },
  {
   "cell_type": "code",
   "execution_count": 7,
   "id": "036f0c5e",
   "metadata": {},
   "outputs": [],
   "source": [
    "#variables = [0.,        0.96929451, 0.01104542, 0.,         0.00983003, 0.00983003]\n",
    "#variables = [0.01833521, 0.25597163, 0.24799725, 0.01359892, 0.2320485,  0.2320485 ]\n",
    "#variables = [-6.85918410e-05,  3.65793644e-01,  2.99642003e-01, -4.45200788e-05, 1.67338732e-01,  1.67338732e-01]\n",
    "#variables = [-1.79233122e-12,  4.44444435e-01,  3.33333326e-01,  1.31158227e-12, 1.11111119e-01,  1.11111119e-01]\n",
    "variables = np.random.randn(len(x))\n",
    "tau=1.0\n",
    "variables = variables/np.sum(variables) #random distribution starting point\n",
    "constraints = [0.0, 0.0, 1.0]\n",
    "var_history, grad_history, c_history, cgrad_history, obj_history, opt_var = h_gradient_descent(variables, \n",
    "                                                                                                          np.array(E), \n",
    "                                                                                                          constraints, \n",
    "                                                                                                          lr=3e-2, \n",
    "                                                                                                          steps=200000, \n",
    "                                                                                                          tau=tau,\n",
    "                                                                                                          c=0.05)"
   ]
  },
  {
   "cell_type": "code",
   "execution_count": 8,
   "id": "e016e4ed",
   "metadata": {
    "scrolled": false
   },
   "outputs": [
    {
     "data": {
      "image/png": "[encoded data removed]",
      "text/plain": [
       "<Figure size 432x288 with 1 Axes>"
      ]
     },
     "metadata": {
      "needs_background": "light"
     },
     "output_type": "display_data"
    },
    {
     "data": {
      "image/png": "[encoded data removed]",
      "text/plain": [
       "<Figure size 432x288 with 1 Axes>"
      ]
     },
     "metadata": {
      "needs_background": "light"
     },
     "output_type": "display_data"
    },
    {
     "data": {
      "image/png": "[encoded data removed]",
      "text/plain": [
       "<Figure size 432x288 with 1 Axes>"
      ]
     },
     "metadata": {
      "needs_background": "light"
     },
     "output_type": "display_data"
    },
    {
     "data": {
      "image/png": "[encoded data removed]",
      "text/plain": [
       "<Figure size 432x288 with 1 Axes>"
      ]
     },
     "metadata": {
      "needs_background": "light"
     },
     "output_type": "display_data"
    },
    {
     "data": {
      "image/png": "[encoded data removed]",
      "text/plain": [
       "<Figure size 432x288 with 1 Axes>"
      ]
     },
     "metadata": {
      "needs_background": "light"
     },
     "output_type": "display_data"
    },
    {
     "name": "stdout",
     "output_type": "stream",
     "text": [
      "Optimal Portfolio:  [-3.16256820e-12  4.79972374e-01  2.80041401e-01  2.31432741e-12\n",
      "  4.79531621e-02  1.92033063e-01]\n",
      "Portfolio Sum Sanity Check:  1.0000000006351877\n",
      "Normalized Portfolio:  [-3.16256819e-12  4.79972374e-01  2.80041401e-01  2.31432741e-12\n",
      "  4.79531620e-02  1.92033063e-01]\n",
      "Old Portfolio Omega(): -0.8032698626744259\n",
      "Old Portfolio E[Z]:  0.6731224408378581\n",
      "New Portfolio Omega():  0.26977366506157685\n",
      "New Portfolio E[Z]:  1.0499999980991983\n",
      "Constraints:  [0.08064779 0.01803098 0.33237674]\n",
      "Constraint Gradients:  [-0.0279793318726968, -0.028086938524050697, -0.01197961923517038]\n"
     ]
    }
   ],
   "source": [
    "plt.plot(obj_history)\n",
    "plt.title(\"$\\Omega \\ Denominator$\")\n",
    "plt.show()\n",
    "\n",
    "plt.plot(var_history)\n",
    "plt.title(\"Variable Plot\")\n",
    "plt.show()\n",
    "plt.plot(grad_history)\n",
    "plt.title(\"Gradient Plot\")\n",
    "plt.show()\n",
    "\n",
    "plt.plot(c_history)\n",
    "plt.title(\"Constraint Plot\")\n",
    "plt.legend([\"Sum\", \"Abs Sum\"])\n",
    "plt.show()\n",
    "plt.plot(cgrad_history)\n",
    "plt.title(\"Constraint Gradient Plot\")\n",
    "plt.legend([\"Sum\", \"Abs Sum\"])\n",
    "plt.show()\n",
    "print(\"Optimal Portfolio: \", opt_var)\n",
    "print(\"Portfolio Sum Sanity Check: \", np.sum(opt_var))\n",
    "opt_var = opt_var/np.sum(opt_var)\n",
    "print(\"Normalized Portfolio: \", opt_var)\n",
    "print(\"Old Portfolio Omega():\", omega(variables, E, tau=tau))\n",
    "print(\"Old Portfolio E[Z]: \", np.dot(variables, E))\n",
    "\n",
    "print(\"New Portfolio Omega(): \", omega(opt_var, E, tau=tau))\n",
    "print(\"New Portfolio E[Z]: \", np.dot(opt_var, E))\n",
    "print(\"Constraints: \", c_history[-1])\n",
    "print(\"Constraint Gradients: \", cgrad_history[-1])"
   ]
  },
  {
   "cell_type": "code",
   "execution_count": null,
   "id": "adad6d8f",
   "metadata": {},
   "outputs": [],
   "source": []
  }
 ],
 "metadata": {
  "kernelspec": {
   "display_name": "Python 3 (ipykernel)",
   "language": "python",
   "name": "python3"
  },
  "language_info": {
   "codemirror_mode": {
    "name": "ipython",
    "version": 3
   },
   "file_extension": ".py",
   "mimetype": "text/x-python",
   "name": "python",
   "nbconvert_exporter": "python",
   "pygments_lexer": "ipython3",
   "version": "3.9.7"
  }
 },
 "nbformat": 4,
 "nbformat_minor": 5
}
